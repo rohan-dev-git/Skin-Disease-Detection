{
 "cells": [
  {
   "cell_type": "code",
   "execution_count": 1,
   "id": "a085b145",
   "metadata": {},
   "outputs": [],
   "source": [
    "import pandas as pd\n",
    "from tensorflow.keras.preprocessing.image import ImageDataGenerator\n",
    "from tensorflow.keras.models import Model, load_model\n",
    "from tensorflow.keras import Input\n",
    "from tensorflow.keras.layers import Flatten,Conv2D,Dense,Dropout, MaxPooling2D, Average\n",
    "import random\n",
    "import numpy as np"
   ]
  },
  {
   "attachments": {},
   "cell_type": "markdown",
   "id": "7cfe7ed3",
   "metadata": {},
   "source": [
    "### Loading data"
   ]
  },
  {
   "cell_type": "code",
   "execution_count": 2,
   "id": "952e530e",
   "metadata": {},
   "outputs": [
    {
     "name": "stdout",
     "output_type": "stream",
     "text": [
      "Found 12453 images belonging to 23 classes.\n",
      "Found 3104 images belonging to 23 classes.\n",
      "Found 4002 images belonging to 23 classes.\n"
     ]
    }
   ],
   "source": [
    "path = \"../DATA/Dataset 1-dermnet\"\n",
    "target = (224,224)\n",
    "batches = 256\n",
    "gen = ImageDataGenerator(rescale = 1/255.0, validation_split = 0.2)\n",
    "train = gen.flow_from_directory(path + \"/train\",\n",
    "                                target_size = target,\n",
    "                                batch_size=batches,\n",
    "                                seed = 106,\n",
    "                                \n",
    "                                class_mode=\"categorical\",\n",
    "                                subset = \"training\"\n",
    "                               )\n",
    "val = gen.flow_from_directory(path + \"/train\",\n",
    "                                target_size = target,\n",
    "                                batch_size=batches,\n",
    "                                seed = 106,\n",
    "                                class_mode=\"categorical\",\n",
    "                                subset = \"validation\",\n",
    "                                shuffle = False,\n",
    "                               )\n",
    "gen = ImageDataGenerator(rescale = 1/255.0,)\n",
    "test = gen.flow_from_directory(path + \"/test\",\n",
    "                               target_size = target,\n",
    "                               batch_size=batches,\n",
    "                               seed = 106,\n",
    "                               class_mode=\"categorical\",\n",
    "                               )"
   ]
  },
  {
   "attachments": {},
   "cell_type": "markdown",
   "id": "b0574b63",
   "metadata": {},
   "source": [
    "## Constants"
   ]
  },
  {
   "cell_type": "code",
   "execution_count": 148,
   "id": "8d35a59f",
   "metadata": {},
   "outputs": [],
   "source": [
    "gene_num = 4\n",
    "chromosome_num = 6\n",
    "crossover_rate = 0.25\n",
    "mutation_rate = 0.2"
   ]
  },
  {
   "attachments": {},
   "cell_type": "markdown",
   "id": "a080972f",
   "metadata": {},
   "source": [
    "### Defining The helper functions"
   ]
  },
  {
   "cell_type": "code",
   "execution_count": 98,
   "id": "4ca93aec",
   "metadata": {},
   "outputs": [],
   "source": [
    "def generate(models):\n",
    "    chrome = []\n",
    "    for i in range(gene_num):\n",
    "        chrome.append(random.randint(0,len(models)-1))\n",
    "    return chrome"
   ]
  },
  {
   "cell_type": "code",
   "execution_count": 115,
   "id": "7a85d1e6",
   "metadata": {},
   "outputs": [],
   "source": [
    "def fitness(chromosomes, val):\n",
    "    top5 = 0\n",
    "    Y_test = val.labels\n",
    "    avg = []\n",
    "    for i in chromosomes:\n",
    "        avg.append(predictions[i])\n",
    "    avg = np.array(avg)\n",
    "    avg = np.average(avg, axis = 0)\n",
    "   # print(avg.shape)\n",
    "    for i in range(len(Y_test)):\n",
    "        if Y_test[i] in np.argsort(avg[i])[-5:]:\n",
    "            top5 += 1\n",
    "    \n",
    "    fit_val= top5/len(Y_test)\n",
    "    return fit_val"
   ]
  },
  {
   "cell_type": "code",
   "execution_count": 105,
   "id": "a9cd2044",
   "metadata": {},
   "outputs": [],
   "source": [
    "\n",
    "def selection(score, chromosomes):\n",
    "    # done through the random roulette method\n",
    "    fitness_sum = sum(score)\n",
    "    random_val = random.uniform(0, fitness_sum)\n",
    "    \n",
    "    # getting cumulative sum till the sum is greater than the random val\n",
    "    cumulative_sum = 0\n",
    "    for i in range(0,len(chromosomes)):\n",
    "        cumulative_sum += score[i]\n",
    "        if(cumulative_sum>=random_val):\n",
    "            parent = chromosomes[i]\n",
    "            # removing the chosen chromosome so that it is not picked again\n",
    "            del chromosomes[i]\n",
    "            del score[i]\n",
    "            return parent"
   ]
  },
  {
   "cell_type": "code",
   "execution_count": 106,
   "id": "996c4239",
   "metadata": {},
   "outputs": [],
   "source": [
    "def crossover(parents, cross_rate):\n",
    "    p1 = parents[0].copy()\n",
    "    p2 = parents[1].copy()\n",
    "    if random.random() < cross_rate:\n",
    "        cross_point = random.randint(0,gene_num-1)\n",
    "        child1 = p1[ :cross_point] + p2[cross_point:]\n",
    "        child2 = p2[ :cross_point] + p1[cross_point:]\n",
    "        return[child1,child2]\n",
    "    else:\n",
    "        return [p1,p2]"
   ]
  },
  {
   "cell_type": "code",
   "execution_count": 107,
   "id": "2278caf7",
   "metadata": {},
   "outputs": [],
   "source": [
    "def mutation(chromosome, mutation_rate,models):\n",
    "    for i in range(gene_num):\n",
    "        if random.random() < mutation_rate:\n",
    "            mutation_point = random.randint(0,gene_num-1)\n",
    "            mutation_val = random.randint(0,len(models)-1)\n",
    "            chromosome[mutation_point] = mutation_val\n",
    "    return chromosome"
   ]
  },
  {
   "attachments": {},
   "cell_type": "markdown",
   "id": "47752ff0",
   "metadata": {},
   "source": [
    "### Defining the genetic algorithm"
   ]
  },
  {
   "cell_type": "code",
   "execution_count": 146,
   "id": "be4c3de3",
   "metadata": {},
   "outputs": [],
   "source": [
    "def genetic_algo(iterations,models,validation_data):\n",
    "    # defining the empty chromosomes list\n",
    "    chromosomes = []\n",
    "    best_gen = 0\n",
    "    best_gen_val = 0\n",
    "    # creating the initial chromosomes\n",
    "    for i in range(0,chromosome_num):\n",
    "        chromosomes.append(generate(models))\n",
    "    print(\"The initial chromosomes made: \\n\")\n",
    "    print(chromosomes)\n",
    "    # running the program to make new generations for the given iterations\n",
    "    for k in range(iterations):\n",
    "        current_gen_scores = []\n",
    "        parents = []\n",
    "        next_gen = []\n",
    "        for i in chromosomes:\n",
    "            current_gen_scores.append(fitness(i,validation_data))\n",
    "        \n",
    "        if(max(current_gen_scores)> best_gen_val):\n",
    "            best_gen_val = max(current_gen_scores)\n",
    "            best_gen = chromosomes[current_gen_scores.index(best_gen_val)]\n",
    "     \n",
    "        # stopping criteria\n",
    "        if 1.0 in current_gen_scores:\n",
    "            break\n",
    "        \n",
    "        # getting the two parents allowed to mate for the next generation\n",
    "        parents.append(selection(current_gen_scores, chromosomes))\n",
    "        parents.append(selection(current_gen_scores, chromosomes))\n",
    "        \n",
    "        # making the new generation\n",
    "        for i in range(int(chromosome_num/2)):\n",
    "            for child in crossover(parents, crossover_rate):\n",
    "                next_gen += [mutation(child,mutation_rate,models)]\n",
    "        chromosomes = next_gen.copy()\n",
    "        \n",
    "    # printing the final chromosomes along with their values and also the best chromosome\n",
    "    best_chromosome = 0\n",
    "    best_chromosome_value = 0\n",
    "    print(\"The final generation chromosomes are:\\n\", chromosomes, \"\\n\")\n",
    "    for i in range(len(chromosomes)):\n",
    "        fit_val = fitness(chromosomes[i],validation_data)\n",
    "        print(f\"Chromosome {i+1}: \", chromosomes[i], \"top 5 accuracy : \",fit_val )\n",
    "        if(fit_val > best_chromosome_value):\n",
    "            best_chromosome = i\n",
    "            best_chromosome_value = fit_val\n",
    "    print(\"\\nThe best chromosome is: \", chromosomes[best_chromosome], \" with value: \", best_chromosome_value)\n",
    "    \n",
    "    # if the solution was found we also print the generation which gave the solution\n",
    "    if(k != iterations-1):\n",
    "        print(\"Generation that produced the answer is: \", k+1)\n",
    "    print(\"=-------------------\")\n",
    "    print(best_gen)\n",
    "    print(best_gen_val)"
   ]
  },
  {
   "attachments": {},
   "cell_type": "markdown",
   "id": "8eb22d58",
   "metadata": {},
   "source": [
    "### Loading models"
   ]
  },
  {
   "cell_type": "code",
   "execution_count": 10,
   "id": "cdbe0101",
   "metadata": {},
   "outputs": [],
   "source": [
    "model_path= \"/Users/praksj/Documents/VIT/Year-3/sem 6/TARP/DATA/dermnet_saves/models/\"\n",
    "resnet50v2 = load_model(model_path +\"resnet50v2.h5\" ) #0\n",
    "densenet_unfrozen = load_model(model_path +\"densenet_unfrozen.h5\" ) #1\n",
    "base_cnn = load_model(model_path + \"base_cnn.h5\") #2\n",
    "resnet50 = load_model(model_path +\"resnet.h5\" ) #3\n",
    "resnet101 = load_model(model_path +\"resnet101.h5\" ) #4 \n",
    "efficientnet_unfrozen = load_model(model_path + \"efficient_netV2_unfrozen.h5\") #5\n",
    "models = [resnet50v2,densenet_unfrozen,base_cnn,resnet50,resnet101,efficientnet_unfrozen]"
   ]
  },
  {
   "cell_type": "code",
   "execution_count": 143,
   "id": "6af2704d",
   "metadata": {},
   "outputs": [
    {
     "name": "stderr",
     "output_type": "stream",
     "text": [
      "2023-02-15 00:33:44.549222: I tensorflow/core/grappler/optimizers/custom_graph_optimizer_registry.cc:113] Plugin optimizer for device_type GPU is enabled.\n"
     ]
    },
    {
     "name": "stdout",
     "output_type": "stream",
     "text": [
      "13/13 [==============================] - 37s 3s/step\n"
     ]
    },
    {
     "name": "stderr",
     "output_type": "stream",
     "text": [
      "2023-02-15 00:34:22.999033: I tensorflow/core/grappler/optimizers/custom_graph_optimizer_registry.cc:113] Plugin optimizer for device_type GPU is enabled.\n"
     ]
    },
    {
     "name": "stdout",
     "output_type": "stream",
     "text": [
      "13/13 [==============================] - 51s 3s/step\n"
     ]
    },
    {
     "name": "stderr",
     "output_type": "stream",
     "text": [
      "2023-02-15 00:35:14.235886: I tensorflow/core/grappler/optimizers/custom_graph_optimizer_registry.cc:113] Plugin optimizer for device_type GPU is enabled.\n"
     ]
    },
    {
     "name": "stdout",
     "output_type": "stream",
     "text": [
      "13/13 [==============================] - 11s 771ms/step\n"
     ]
    },
    {
     "name": "stderr",
     "output_type": "stream",
     "text": [
      "2023-02-15 00:35:26.026152: I tensorflow/core/grappler/optimizers/custom_graph_optimizer_registry.cc:113] Plugin optimizer for device_type GPU is enabled.\n"
     ]
    },
    {
     "name": "stdout",
     "output_type": "stream",
     "text": [
      "13/13 [==============================] - 43s 3s/step\n"
     ]
    },
    {
     "name": "stderr",
     "output_type": "stream",
     "text": [
      "2023-02-15 00:36:09.883080: I tensorflow/core/grappler/optimizers/custom_graph_optimizer_registry.cc:113] Plugin optimizer for device_type GPU is enabled.\n"
     ]
    },
    {
     "name": "stdout",
     "output_type": "stream",
     "text": [
      "13/13 [==============================] - 72s 5s/step\n"
     ]
    },
    {
     "name": "stderr",
     "output_type": "stream",
     "text": [
      "2023-02-15 00:37:24.784869: I tensorflow/core/grappler/optimizers/custom_graph_optimizer_registry.cc:113] Plugin optimizer for device_type GPU is enabled.\n"
     ]
    },
    {
     "name": "stdout",
     "output_type": "stream",
     "text": [
      "13/13 [==============================] - 64s 4s/step\n"
     ]
    }
   ],
   "source": [
    "\n",
    "predictions = []\n",
    "for model in models:\n",
    "    pred = model.predict(val)\n",
    "    predictions.append(pred)"
   ]
  },
  {
   "attachments": {},
   "cell_type": "markdown",
   "id": "160ffc3a",
   "metadata": {},
   "source": [
    "## Running the Genetic Algorithm"
   ]
  },
  {
   "cell_type": "code",
   "execution_count": 150,
   "id": "bc0b5cc3",
   "metadata": {},
   "outputs": [
    {
     "name": "stdout",
     "output_type": "stream",
     "text": [
      "The initial chromosomes made: \n",
      "\n",
      "[[0, 4, 0, 3], [0, 3, 3, 5], [0, 0, 4, 0], [0, 1, 0, 4], [2, 2, 5, 4], [1, 0, 3, 1]]\n",
      "The final generation chromosomes are:\n",
      " [[2, 3, 0, 1], [2, 3, 0, 1], [2, 3, 5, 1], [2, 4, 0, 1], [2, 3, 1, 3], [2, 4, 0, 1]] \n",
      "\n",
      "Chromosome 1:  [2, 3, 0, 1] top 5 accuracy :  0.5934278350515464\n",
      "Chromosome 2:  [2, 3, 0, 1] top 5 accuracy :  0.5934278350515464\n",
      "Chromosome 3:  [2, 3, 5, 1] top 5 accuracy :  0.5657216494845361\n",
      "Chromosome 4:  [2, 4, 0, 1] top 5 accuracy :  0.5676546391752577\n",
      "Chromosome 5:  [2, 3, 1, 3] top 5 accuracy :  0.5708762886597938\n",
      "Chromosome 6:  [2, 4, 0, 1] top 5 accuracy :  0.5676546391752577\n",
      "\n",
      "The best chromosome is:  [2, 3, 0, 1]  with value:  0.5934278350515464\n",
      "=-------------------\n",
      "[2, 3, 0, 2]\n",
      "0.5940721649484536\n"
     ]
    }
   ],
   "source": [
    "genetic_algo(100,models,val)"
   ]
  },
  {
   "attachments": {},
   "cell_type": "markdown",
   "id": "bfc5f10b",
   "metadata": {},
   "source": [
    "## Evaluating the both the final generation fittest model and the fittest model through generations"
   ]
  },
  {
   "attachments": {},
   "cell_type": "markdown",
   "id": "5402dfa7",
   "metadata": {},
   "source": [
    "#### Final gen"
   ]
  },
  {
   "cell_type": "code",
   "execution_count": 11,
   "id": "ac30a1fa",
   "metadata": {},
   "outputs": [],
   "source": [
    "model_indexes = [2, 3, 0, 1]\n",
    "models_chosen= []\n",
    "for i in model_indexes:\n",
    "    models_chosen.append(models[i])\n",
    "model_input = Input(shape=(224, 224, 3))\n",
    "model_outputs = [model(model_input) for model in models_chosen]\n",
    "ensemble_output = Average()(model_outputs)\n",
    "ensemble_model = Model(inputs=model_input, outputs=ensemble_output)"
   ]
  },
  {
   "cell_type": "code",
   "execution_count": 12,
   "id": "e1c98376",
   "metadata": {},
   "outputs": [],
   "source": [
    "ensemble_model.compile(optimizer = \"adam\", loss = \"categorical_crossentropy\", metrics = [\"accuracy\", \"top_k_categorical_accuracy\"])\n"
   ]
  },
  {
   "cell_type": "code",
   "execution_count": 13,
   "id": "4b7f054a",
   "metadata": {},
   "outputs": [
    {
     "name": "stderr",
     "output_type": "stream",
     "text": [
      "2023-02-15 01:21:30.874001: I tensorflow/core/grappler/optimizers/custom_graph_optimizer_registry.cc:113] Plugin optimizer for device_type GPU is enabled.\n"
     ]
    },
    {
     "name": "stdout",
     "output_type": "stream",
     "text": [
      "16/16 [==============================] - 220s 14s/step - loss: 2.0189 - accuracy: 0.4545 - top_k_categorical_accuracy: 0.7339\n"
     ]
    },
    {
     "data": {
      "text/plain": [
       "[2.0189249515533447, 0.4545227587223053, 0.7338830828666687]"
      ]
     },
     "execution_count": 13,
     "metadata": {},
     "output_type": "execute_result"
    }
   ],
   "source": [
    "ensemble_model.evaluate(test)"
   ]
  },
  {
   "attachments": {},
   "cell_type": "markdown",
   "id": "c07da178",
   "metadata": {},
   "source": [
    "#### Best gen"
   ]
  },
  {
   "cell_type": "code",
   "execution_count": 14,
   "id": "bc386ae3",
   "metadata": {},
   "outputs": [],
   "source": [
    "model_indexes = [2, 3, 0, 2]\n",
    "models_chosen= []\n",
    "for i in model_indexes:\n",
    "    models_chosen.append(models[i])\n",
    "model_input = Input(shape=(224, 224, 3))\n",
    "model_outputs = [model(model_input) for model in models_chosen]\n",
    "ensemble_output = Average()(model_outputs)\n",
    "ensemble_model = Model(inputs=model_input, outputs=ensemble_output)\n",
    "ensemble_model.compile(optimizer = \"adam\", loss = \"categorical_crossentropy\", metrics = [\"accuracy\", \"top_k_categorical_accuracy\"])\n"
   ]
  },
  {
   "cell_type": "code",
   "execution_count": 15,
   "id": "c0028f55",
   "metadata": {},
   "outputs": [
    {
     "name": "stderr",
     "output_type": "stream",
     "text": [
      "2023-02-15 01:28:47.542509: I tensorflow/core/grappler/optimizers/custom_graph_optimizer_registry.cc:113] Plugin optimizer for device_type GPU is enabled.\n"
     ]
    },
    {
     "name": "stdout",
     "output_type": "stream",
     "text": [
      "16/16 [==============================] - 447s 28s/step - loss: 2.1468 - accuracy: 0.4033 - top_k_categorical_accuracy: 0.7049\n"
     ]
    },
    {
     "data": {
      "text/plain": [
       "[2.1467671394348145, 0.40329834818840027, 0.7048975825309753]"
      ]
     },
     "execution_count": 15,
     "metadata": {},
     "output_type": "execute_result"
    }
   ],
   "source": [
    "ensemble_model.evaluate(test)"
   ]
  },
  {
   "attachments": {},
   "cell_type": "markdown",
   "id": "dae0a96b",
   "metadata": {},
   "source": [
    "# Sanity check"
   ]
  },
  {
   "cell_type": "code",
   "execution_count": 5,
   "id": "2a8606cc",
   "metadata": {},
   "outputs": [
    {
     "name": "stdout",
     "output_type": "stream",
     "text": [
      "Metal device set to: Apple M1\n"
     ]
    },
    {
     "name": "stderr",
     "output_type": "stream",
     "text": [
      "2023-02-15 01:18:16.060699: I tensorflow/core/common_runtime/pluggable_device/pluggable_device_factory.cc:305] Could not identify NUMA node of platform GPU ID 0, defaulting to 0. Your kernel may not have been built with NUMA support.\n",
      "2023-02-15 01:18:16.060824: I tensorflow/core/common_runtime/pluggable_device/pluggable_device_factory.cc:271] Created TensorFlow device (/job:localhost/replica:0/task:0/device:GPU:0 with 0 MB memory) -> physical PluggableDevice (device: 0, name: METAL, pci bus id: <undefined>)\n"
     ]
    }
   ],
   "source": [
    "model_path= \"/Users/praksj/Documents/VIT/Year-3/sem 6/TARP/DATA/dermnet_saves/models/\"\n",
    "resnet50v2 = load_model(model_path +\"resnet50v2.h5\" ) \n",
    "densenet_unfrozen = load_model(model_path +\"densenet_unfrozen.h5\" ) \n",
    "base_cnn = load_model(model_path + \"base_cnn.h5\")"
   ]
  },
  {
   "cell_type": "code",
   "execution_count": 6,
   "id": "2de74641",
   "metadata": {},
   "outputs": [],
   "source": [
    "models = [resnet50v2, densenet_unfrozen,base_cnn]\n",
    "model_input = Input(shape=(224, 224, 3))\n",
    "model_outputs = [model(model_input) for model in models]\n",
    "ensemble_output = Average()(model_outputs)\n",
    "ensemble_model = Model(inputs=model_input, outputs=ensemble_output)"
   ]
  },
  {
   "cell_type": "code",
   "execution_count": 7,
   "id": "e06586d6",
   "metadata": {},
   "outputs": [],
   "source": [
    "ensemble_model.compile(optimizer = \"adam\", loss = \"categorical_crossentropy\", metrics = [\"accuracy\", \"top_k_categorical_accuracy\"])\n"
   ]
  },
  {
   "cell_type": "code",
   "execution_count": 8,
   "id": "5db3bbfa",
   "metadata": {},
   "outputs": [
    {
     "name": "stderr",
     "output_type": "stream",
     "text": [
      "2023-02-15 01:18:22.940145: W tensorflow/core/platform/profile_utils/cpu_utils.cc:128] Failed to get CPU frequency: 0 Hz\n",
      "2023-02-15 01:18:24.449654: I tensorflow/core/grappler/optimizers/custom_graph_optimizer_registry.cc:113] Plugin optimizer for device_type GPU is enabled.\n"
     ]
    },
    {
     "name": "stdout",
     "output_type": "stream",
     "text": [
      "16/16 [==============================] - 100s 6s/step - loss: 2.1539 - accuracy: 0.4538 - top_k_categorical_accuracy: 0.7354\n"
     ]
    },
    {
     "data": {
      "text/plain": [
       "[2.15393328666687, 0.4537731111049652, 0.7353823184967041]"
      ]
     },
     "execution_count": 8,
     "metadata": {},
     "output_type": "execute_result"
    }
   ],
   "source": [
    "ensemble_model.evaluate(test)"
   ]
  },
  {
   "cell_type": "code",
   "execution_count": null,
   "id": "a0904fa5",
   "metadata": {},
   "outputs": [],
   "source": []
  }
 ],
 "metadata": {
  "kernelspec": {
   "display_name": "Python 3 (ipykernel)",
   "language": "python",
   "name": "python3"
  },
  "language_info": {
   "codemirror_mode": {
    "name": "ipython",
    "version": 3
   },
   "file_extension": ".py",
   "mimetype": "text/x-python",
   "name": "python",
   "nbconvert_exporter": "python",
   "pygments_lexer": "ipython3",
   "version": "3.9.13"
  }
 },
 "nbformat": 4,
 "nbformat_minor": 5
}
